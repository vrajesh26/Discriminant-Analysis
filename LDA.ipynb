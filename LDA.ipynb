{
 "cells": [
  {
   "cell_type": "code",
   "execution_count": 5,
   "metadata": {
    "collapsed": true
   },
   "outputs": [],
   "source": [
    "import numpy as np\n",
    "import matplotlib.pyplot as plt\n",
    "import pandas as pd\n"
   ]
  },
  {
   "cell_type": "code",
   "execution_count": 2,
   "metadata": {},
   "outputs": [
    {
     "name": "stderr",
     "output_type": "stream",
     "text": [
      "C:\\Users\\Amitesh\\AppData\\Local\\Continuum\\Anaconda3\\lib\\site-packages\\sklearn\\cross_validation.py:44: DeprecationWarning: This module was deprecated in version 0.18 in favor of the model_selection module into which all the refactored classes and functions are moved. Also note that the interface of the new CV iterators are different from that of this module. This module will be removed in 0.20.\n",
      "  \"This module will be removed in 0.20.\", DeprecationWarning)\n"
     ]
    }
   ],
   "source": [
    "from sklearn import cross_validation\n",
    "from sklearn.discriminant_analysis import LinearDiscriminantAnalysis\n",
    "from matplotlib import colors\n"
   ]
  },
  {
   "cell_type": "code",
   "execution_count": 16,
   "metadata": {},
   "outputs": [],
   "source": [
    "# Read data from csv file\n",
    "data = pd.read_csv('E:\\wine.csv')\n",
    "y=data.Wine\n",
    "X=data.drop('Wine',axis=1)\n",
    "\n"
   ]
  },
  {
   "cell_type": "code",
   "execution_count": 19,
   "metadata": {},
   "outputs": [
    {
     "data": {
      "text/plain": [
       "array([[-4.70024401,  1.97913835],\n",
       "       [-4.30195811,  1.17041286],\n",
       "       [-3.42071952,  1.42910139],\n",
       "       [-4.20575366,  4.00287148],\n",
       "       [-1.50998168,  0.4512239 ],\n",
       "       [-4.51868934,  3.21313756],\n",
       "       [-4.52737794,  3.26912179],\n",
       "       [-4.14834781,  3.10411765],\n",
       "       [-3.86082876,  1.95338263],\n",
       "       [-3.36662444,  1.67864327],\n",
       "       [-4.80587907,  2.23536271],\n",
       "       [-3.42807646,  2.17510939],\n",
       "       [-3.66610246,  2.26248961],\n",
       "       [-5.58824635,  2.05478773],\n",
       "       [-5.50131449,  3.61304865],\n",
       "       [-3.18475189,  2.88952528],\n",
       "       [-3.28936988,  2.76584266],\n",
       "       [-2.99809262,  1.42511132],\n",
       "       [-5.24640372,  3.70982655],\n",
       "       [-3.13653106,  1.97689922],\n",
       "       [-3.57747791,  0.5624599 ],\n",
       "       [-1.69077135,  0.91342136],\n",
       "       [-4.83515033,  0.9147628 ],\n",
       "       [-3.09588961,  0.61735888],\n",
       "       [-3.32164716,  0.29847734],\n",
       "       [-2.14482223,  0.16369247],\n",
       "       [-3.9824285 ,  2.17515679],\n",
       "       [-2.68591432,  1.21850924],\n",
       "       [-3.56309464,  1.03817651],\n",
       "       [-3.17301573,  1.37789624],\n",
       "       [-2.99626797,  1.32419896],\n",
       "       [-3.56866244,  2.34065478],\n",
       "       [-3.38506383,  0.20123426],\n",
       "       [-3.5275375 ,  1.71592739],\n",
       "       [-2.85190852,  1.47070771],\n",
       "       [-2.79411996,  0.23793093],\n",
       "       [-2.75808511,  1.56970421],\n",
       "       [-2.17734477,  1.01036455],\n",
       "       [-3.02926382, -0.23509583],\n",
       "       [-3.27105228,  2.6040459 ],\n",
       "       [-2.92065533,  0.25523343],\n",
       "       [-2.23721062,  0.91946116],\n",
       "       [-4.69972568,  2.56075339],\n",
       "       [-1.23036133,  0.42259515],\n",
       "       [-2.58203904, -0.35029195],\n",
       "       [-2.58312049,  2.87686572],\n",
       "       [-3.88887889,  2.05160408],\n",
       "       [-3.44975356,  0.95183917],\n",
       "       [-2.34223331,  1.4325895 ],\n",
       "       [-3.52062596,  2.08155356],\n",
       "       [-3.21840912,  0.8791287 ],\n",
       "       [-4.38214896,  2.16471573],\n",
       "       [-4.36311727,  2.27182928],\n",
       "       [-3.51917293,  3.00737373],\n",
       "       [-3.12277475,  1.59356669],\n",
       "       [-1.8024054 ,  1.33006156],\n",
       "       [-2.87378754,  1.72989942],\n",
       "       [-3.61690518,  2.29115753],\n",
       "       [-3.73868551,  2.46011803],\n",
       "       [ 1.58618749, -2.42384416],\n",
       "       [ 0.79967216, -1.39406461],\n",
       "       [ 2.38015446, -1.45188659],\n",
       "       [-0.45917726, -1.19045365],\n",
       "       [-0.50726885, -3.16662403],\n",
       "       [ 0.39398359, -2.7798417 ],\n",
       "       [-0.92256616, -1.38872368],\n",
       "       [-1.95549377, -2.69360629],\n",
       "       [-0.34732815, -2.59289903],\n",
       "       [ 0.20371212,  0.01962135],\n",
       "       [-0.24831914, -2.7561761 ],\n",
       "       [ 1.17987999, -0.90034277],\n",
       "       [-1.07718925, -1.82670118],\n",
       "       [ 0.64100179, -1.44531367],\n",
       "       [-1.74684421, -1.78455859],\n",
       "       [-0.34721117, -1.48810682],\n",
       "       [ 1.14274222, -3.089249  ],\n",
       "       [ 0.18665882, -2.67317096],\n",
       "       [ 0.900525  , -1.81942357],\n",
       "       [-0.70709551, -2.12304449],\n",
       "       [-0.59562833, -2.48962245],\n",
       "       [-0.55761818, -4.65303778],\n",
       "       [-1.80430417, -1.48714945],\n",
       "       [ 0.23077079, -2.84287547],\n",
       "       [ 2.03482711, -0.79032003],\n",
       "       [-0.62113021, -1.69689588],\n",
       "       [-1.03372742, -2.44143762],\n",
       "       [ 0.76598781, -3.44641402],\n",
       "       [ 0.35042568, -3.22935698],\n",
       "       [ 0.15324508, -2.11287767],\n",
       "       [-0.14962842, -2.9919321 ],\n",
       "       [ 0.48079504, -2.54002408],\n",
       "       [ 1.39689016, -2.54082291],\n",
       "       [ 0.91972331, -2.24859665],\n",
       "       [-0.59102937, -2.93845393],\n",
       "       [ 0.49411386, -2.93631076],\n",
       "       [-1.62614426, -2.02049545],\n",
       "       [ 2.00044562, -0.63448464],\n",
       "       [-1.00534818, -3.33112586],\n",
       "       [-2.07121314, -2.7144542 ],\n",
       "       [-1.6381589 , -3.87739654],\n",
       "       [-1.0589434 , -2.99987263],\n",
       "       [ 0.02594549, -2.35411388],\n",
       "       [-0.21887407, -1.64289601],\n",
       "       [ 1.3643764 , -3.81747174],\n",
       "       [-1.12901245, -2.32685245],\n",
       "       [-0.21263094, -2.99677582],\n",
       "       [-0.77946884, -2.47277392],\n",
       "       [ 0.61546732, -2.17823987],\n",
       "       [ 0.22550192, -3.79734159],\n",
       "       [-2.03869851, -2.18532522],\n",
       "       [ 0.79274716, -3.66157598],\n",
       "       [ 0.30229545, -2.79527873],\n",
       "       [-0.50664882, -1.09527341],\n",
       "       [ 0.99837397, -3.44598675],\n",
       "       [-0.21954922, -2.79759769],\n",
       "       [-0.37131517, -6.00561031],\n",
       "       [ 0.05545894, -3.4784697 ],\n",
       "       [-0.09137874, -3.61977733],\n",
       "       [ 1.79755252, -0.85012177],\n",
       "       [-0.17405009, -2.63224971],\n",
       "       [-1.17870281, -2.20519226],\n",
       "       [-3.2105439 , -2.90531169],\n",
       "       [ 0.62605202, -1.99570866],\n",
       "       [ 0.03366613, -1.38435976],\n",
       "       [-0.6993008 , -2.45943957],\n",
       "       [-0.72061079, -3.2466652 ],\n",
       "       [-0.51933512, -2.86969325],\n",
       "       [ 1.17030045, -3.31947864],\n",
       "       [ 0.10824791, -3.79876143],\n",
       "       [ 1.12319783, -1.28784815],\n",
       "       [ 2.24632419,  0.18734787],\n",
       "       [ 3.28527755,  0.69608625],\n",
       "       [ 4.07236441,  0.14425752],\n",
       "       [ 3.86691235,  0.53503357],\n",
       "       [ 3.45088333, -0.21734536],\n",
       "       [ 3.71583899,  0.5651013 ],\n",
       "       [ 3.9222051 ,  0.89352622],\n",
       "       [ 4.8516102 ,  0.31406852],\n",
       "       [ 3.54993389,  0.9159633 ],\n",
       "       [ 3.76889174,  0.22554113],\n",
       "       [ 2.6694225 ,  1.14109076],\n",
       "       [ 2.32491492,  1.9484833 ],\n",
       "       [ 3.17712883,  1.05985317],\n",
       "       [ 2.88964418,  1.15705922],\n",
       "       [ 3.78325562,  2.00739304],\n",
       "       [ 3.04411324,  0.9812437 ],\n",
       "       [ 4.70697017,  1.81778277],\n",
       "       [ 4.85021393,  2.20818213],\n",
       "       [ 4.98359184,  2.0349552 ],\n",
       "       [ 4.86968293,  1.80832861],\n",
       "       [ 4.5986919 ,  1.87224228],\n",
       "       [ 5.67447884,  1.82580271],\n",
       "       [ 5.32986123,  0.58218515],\n",
       "       [ 5.03401031,  2.27732076],\n",
       "       [ 4.52080087, -0.0067342 ],\n",
       "       [ 5.0978371 ,  2.0016203 ],\n",
       "       [ 5.04368277,  2.5119033 ],\n",
       "       [ 4.86980829,  1.09158074],\n",
       "       [ 5.61316558,  2.98439332],\n",
       "       [ 5.67046737,  2.27306996],\n",
       "       [ 5.37413513,  0.76247223],\n",
       "       [ 3.09975377,  1.94106484],\n",
       "       [ 3.35888137,  0.54868961],\n",
       "       [ 3.04007194,  1.45698898],\n",
       "       [ 4.94861303,  2.18992458],\n",
       "       [ 4.54504458,  1.21989845],\n",
       "       [ 5.27255844,  2.71623061],\n",
       "       [ 5.13016117,  2.29172536],\n",
       "       [ 4.30468082,  2.39112531],\n",
       "       [ 5.08336782,  3.15766665],\n",
       "       [ 4.06743571,  0.31892192],\n",
       "       [ 5.74212961,  1.46708165],\n",
       "       [ 4.4820514 ,  3.30708382],\n",
       "       [ 4.29150758,  3.39033191],\n",
       "       [ 4.50329623,  2.08354592],\n",
       "       [ 5.04747033,  3.19623136],\n",
       "       [ 4.27615505,  2.43138798],\n",
       "       [ 5.5380861 ,  3.04205709]])"
      ]
     },
     "execution_count": 19,
     "metadata": {},
     "output_type": "execute_result"
    }
   ],
   "source": [
    "lda = LinearDiscriminantAnalysis(n_components=2)\n",
    "lda.fit(X, y)\n",
    "drA = lda.transform(X)\n",
    "drA"
   ]
  },
  {
   "cell_type": "code",
   "execution_count": 56,
   "metadata": {},
   "outputs": [
    {
     "data": {
      "text/html": [
       "<div>\n",
       "<style>\n",
       "    .dataframe thead tr:only-child th {\n",
       "        text-align: right;\n",
       "    }\n",
       "\n",
       "    .dataframe thead th {\n",
       "        text-align: left;\n",
       "    }\n",
       "\n",
       "    .dataframe tbody tr th {\n",
       "        vertical-align: top;\n",
       "    }\n",
       "</style>\n",
       "<table border=\"1\" class=\"dataframe\">\n",
       "  <thead>\n",
       "    <tr style=\"text-align: right;\">\n",
       "      <th></th>\n",
       "      <th>Alcohol</th>\n",
       "      <th>Malic.acid</th>\n",
       "      <th>Ash</th>\n",
       "      <th>Acl</th>\n",
       "      <th>Mg</th>\n",
       "      <th>Phenols</th>\n",
       "      <th>Flavanoids</th>\n",
       "      <th>Nonflavanoid.phenols</th>\n",
       "      <th>Proanth</th>\n",
       "      <th>Color.int</th>\n",
       "      <th>Hue</th>\n",
       "      <th>OD</th>\n",
       "      <th>Proline</th>\n",
       "    </tr>\n",
       "  </thead>\n",
       "  <tbody>\n",
       "    <tr>\n",
       "      <th>0</th>\n",
       "      <td>14.23</td>\n",
       "      <td>1.71</td>\n",
       "      <td>2.43</td>\n",
       "      <td>15.6</td>\n",
       "      <td>127</td>\n",
       "      <td>2.80</td>\n",
       "      <td>3.06</td>\n",
       "      <td>0.28</td>\n",
       "      <td>2.29</td>\n",
       "      <td>5.64</td>\n",
       "      <td>1.04</td>\n",
       "      <td>3.92</td>\n",
       "      <td>1065</td>\n",
       "    </tr>\n",
       "    <tr>\n",
       "      <th>1</th>\n",
       "      <td>13.20</td>\n",
       "      <td>1.78</td>\n",
       "      <td>2.14</td>\n",
       "      <td>11.2</td>\n",
       "      <td>100</td>\n",
       "      <td>2.65</td>\n",
       "      <td>2.76</td>\n",
       "      <td>0.26</td>\n",
       "      <td>1.28</td>\n",
       "      <td>4.38</td>\n",
       "      <td>1.05</td>\n",
       "      <td>3.40</td>\n",
       "      <td>1050</td>\n",
       "    </tr>\n",
       "  </tbody>\n",
       "</table>\n",
       "</div>"
      ],
      "text/plain": [
       "   Alcohol  Malic.acid   Ash   Acl   Mg  Phenols  Flavanoids  \\\n",
       "0    14.23        1.71  2.43  15.6  127     2.80        3.06   \n",
       "1    13.20        1.78  2.14  11.2  100     2.65        2.76   \n",
       "\n",
       "   Nonflavanoid.phenols  Proanth  Color.int   Hue    OD  Proline  \n",
       "0                  0.28     2.29       5.64  1.04  3.92     1065  \n",
       "1                  0.26     1.28       4.38  1.05  3.40     1050  "
      ]
     },
     "execution_count": 56,
     "metadata": {},
     "output_type": "execute_result"
    }
   ],
   "source": [
    "#Data extracted; perform LDA\n",
    "lda = LinearDiscriminantAnalysis()\n",
    "\n"
   ]
  },
  {
   "cell_type": "code",
   "execution_count": 61,
   "metadata": {},
   "outputs": [
    {
     "name": "stdout",
     "output_type": "stream",
     "text": [
      "LDA Results: \n"
     ]
    },
    {
     "ename": "TypeError",
     "evalue": "fit() missing 1 required positional argument: 'y'",
     "output_type": "error",
     "traceback": [
      "\u001b[1;31m---------------------------------------------------------------------------\u001b[0m",
      "\u001b[1;31mTypeError\u001b[0m                                 Traceback (most recent call last)",
      "\u001b[1;32m<ipython-input-61-0b3c2b7c6ef1>\u001b[0m in \u001b[0;36m<module>\u001b[1;34m()\u001b[0m\n\u001b[0;32m      2\u001b[0m \u001b[0mprint\u001b[0m\u001b[1;33m(\u001b[0m\u001b[1;34m'LDA Results: '\u001b[0m\u001b[1;33m)\u001b[0m\u001b[1;33m\u001b[0m\u001b[0m\n\u001b[0;32m      3\u001b[0m \u001b[0mk_fold\u001b[0m\u001b[1;33m\u001b[0m\u001b[0m\n\u001b[1;32m----> 4\u001b[1;33m \u001b[0mlda\u001b[0m\u001b[1;33m.\u001b[0m\u001b[0mfit\u001b[0m\u001b[1;33m(\u001b[0m\u001b[0mX\u001b[0m\u001b[1;33m[\u001b[0m\u001b[1;36m3\u001b[0m\u001b[1;33m:\u001b[0m\u001b[1;33m]\u001b[0m\u001b[1;33m)\u001b[0m\u001b[1;33m\u001b[0m\u001b[0m\n\u001b[0m",
      "\u001b[1;31mTypeError\u001b[0m: fit() missing 1 required positional argument: 'y'"
     ]
    }
   ],
   "source": [
    "k_fold = cross_validation.KFold(len(X), 3, shuffle=True)\n",
    "print('LDA Results: ')\n",
    "k_fold"
   ]
  },
  {
   "cell_type": "code",
   "execution_count": 71,
   "metadata": {},
   "outputs": [
    {
     "data": {
      "text/plain": [
       "LinearDiscriminantAnalysis(n_components=None, priors=None, shrinkage=None,\n",
       "              solver='svd', store_covariance=False, tol=0.0001)"
      ]
     },
     "execution_count": 71,
     "metadata": {},
     "output_type": "execute_result"
    }
   ],
   "source": [
    "transf_lda = lda.fit_transform(X, y)\n",
    "lda_clf =LinearDiscriminantAnalysis()\n",
    "lda_clf.fit(X, y)\n",
    "LinearDiscriminantAnalysis(n_components=None, priors=None)\n",
    "\n"
   ]
  },
  {
   "cell_type": "code",
   "execution_count": 73,
   "metadata": {
    "collapsed": true
   },
   "outputs": [],
   "source": [
    "from sklearn import metrics\n",
    "pred_train_lda = lda_clf.predict(X)\n"
   ]
  },
  {
   "cell_type": "code",
   "execution_count": 75,
   "metadata": {},
   "outputs": [
    {
     "name": "stdout",
     "output_type": "stream",
     "text": [
      "Prediction accuracy for the training dataset\n",
      "100.00%\n"
     ]
    }
   ],
   "source": [
    "print('Prediction accuracy for the training dataset')\n",
    "print('{:.2%}'.format(metrics.accuracy_score(y, pred_train_lda)))"
   ]
  }
 ],
 "metadata": {
  "kernelspec": {
   "display_name": "Python 3",
   "language": "python",
   "name": "python3"
  },
  "language_info": {
   "codemirror_mode": {
    "name": "ipython",
    "version": 3
   },
   "file_extension": ".py",
   "mimetype": "text/x-python",
   "name": "python",
   "nbconvert_exporter": "python",
   "pygments_lexer": "ipython3",
   "version": "3.6.1"
  }
 },
 "nbformat": 4,
 "nbformat_minor": 2
}
